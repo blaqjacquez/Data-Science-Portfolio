{
  "cells": [
    {
      "cell_type": "code",
      "source": [
        "import os\n",
        "from azure.identity import DefaultAzureCredential, AzureCliCredential\n",
        "from azure.ai.ml import automl, Input, MLClient, command\n",
        "from azure.ai.ml.constants import AssetTypes\n",
        "from azure.ai.ml.entities import Data\n",
        "from azure.ai.ml.automl import (\n",
        "    classification,\n",
        "    ClassificationPrimaryMetrics,\n",
        "    ClassificationModels,\n",
        ")"
      ],
      "outputs": [],
      "execution_count": 1,
      "metadata": {
        "gather": {
          "logged": 1737026974645
        }
      }
    },
    {
      "cell_type": "code",
      "source": [
        "from azure.ai.ml import MLClient\n",
        "from azure.identity import DefaultAzureCredential\n",
        "\n",
        "\n",
        "# Authenticate and create an MLClient\n",
        "credential = DefaultAzureCredential()\n",
        "ml_client = MLClient.from_config(credential =credential) \n"
      ],
      "outputs": [
        {
          "output_type": "stream",
          "name": "stderr",
          "text": "Found the config file in: ./config.json\n"
        }
      ],
      "execution_count": 4,
      "metadata": {
        "gather": {
          "logged": 1737027164620
        }
      }
    },
    {
      "cell_type": "code",
      "source": [
        "training_data_input = Input(\n",
        "    type=AssetTypes.MLTABLE, path=\"azureml:transdata:1\"\n",
        ")\n",
        "classification_job = automl.classification(\n",
        "    compute=\"Motu2\",\n",
        "    experiment_name=\"transactions\",\n",
        "    training_data=training_data_input,\n",
        "    target_column_name=\"Transaction Type\",  \n",
        "    primary_metric=\"accuracy\",\n",
        "    n_cross_validations=5,\n",
        "    enable_model_explainability=True\n",
        ")\n",
        "classification_job.set_limits(\n",
        "    timeout_minutes=30, \n",
        "    trial_timeout_minutes=10, \n",
        "    max_trials=5,\n",
        "    enable_early_termination=True,\n",
        ")"
      ],
      "outputs": [],
      "execution_count": 16,
      "metadata": {
        "gather": {
          "logged": 1737034168743
        }
      }
    },
    {
      "cell_type": "code",
      "source": [
        "# Submit the AutoML classification job\n",
        "job = ml_client.jobs.create_or_update(classification_job)\n",
        "\n",
        "# Print the job name and URL for monitoring\n",
        "print(f\"Job submitted. Name: {job.name}\")\n",
        "print(f\"Monitor the job at: {job.services['Studio'].endpoint}\")\n"
      ],
      "outputs": [
        {
          "output_type": "stream",
          "name": "stdout",
          "text": "Job submitted. Name: bright_cumin_132skzffn0\nMonitor the job at: https://ml.azure.com/runs/bright_cumin_132skzffn0?wsid=/subscriptions/b7d39d9d-b73c-45cc-977e-0623730e8b3d/resourcegroups/personalprojects/workspaces/mypersonalprojects&tid=104704fd-f711-4575-99d5-8a6588951c90\n"
        }
      ],
      "execution_count": 17,
      "metadata": {
        "gather": {
          "logged": 1737034173312
        }
      }
    },
    {
      "cell_type": "code",
      "source": [],
      "outputs": [],
      "execution_count": null,
      "metadata": {}
    },
    {
      "cell_type": "code",
      "source": [],
      "outputs": [],
      "execution_count": null,
      "metadata": {}
    }
  ],
  "metadata": {
    "kernelspec": {
      "name": "python310-sdkv2",
      "language": "python",
      "display_name": "Python 3.10 - SDK v2"
    },
    "language_info": {
      "name": "python",
      "version": "3.10.14",
      "mimetype": "text/x-python",
      "codemirror_mode": {
        "name": "ipython",
        "version": 3
      },
      "pygments_lexer": "ipython3",
      "nbconvert_exporter": "python",
      "file_extension": ".py"
    },
    "microsoft": {
      "ms_spell_check": {
        "ms_spell_check_language": "en"
      },
      "host": {
        "AzureML": {
          "notebookHasBeenCompleted": true
        }
      }
    },
    "kernel_info": {
      "name": "python310-sdkv2"
    },
    "nteract": {
      "version": "nteract-front-end@1.0.0"
    }
  },
  "nbformat": 4,
  "nbformat_minor": 2
}